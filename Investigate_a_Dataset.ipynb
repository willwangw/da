{
 "cells": [
  {
   "cell_type": "markdown",
   "metadata": {},
   "source": [
    "\n",
    "# Project: Investigate the relationship between Gun Background Check and Gun shopping behaviour\n",
    "\n",
    "## Table of Contents\n",
    "<ul>\n",
    "<li><a href=\"#intro\">Introduction</a></li>\n",
    "<li><a href=\"#wrangling\">Data Wrangling</a></li>\n",
    "<li><a href=\"#eda\">Exploratory Data Analysis</a></li>\n",
    "<li><a href=\"#conclusions\">Conclusions</a></li>\n",
    "</ul>"
   ]
  },
  {
   "cell_type": "markdown",
   "metadata": {},
   "source": [
    "<a id='intro'></a>\n",
    "## Introduction\n",
    "\n",
    "> The data was selected was the FBI Gun Data, it gives about 10 years data of number of firearm background checks initiated through the NICS since 1998. Another data we have is U.S. census data.  It contains several variables at the state level. We are going to take advantage of the population estimates to help us understand the trends of firarm background check.\n",
    "\n",
    ">A one-to-one correlation may cannot be made between a firearm background check and a firearm sale, but it is definitely positive related. We are going to discover the trends of gun sale. Are more people likely to buy guns over the years, and what kind of gun are they more like to buy? Is it differs by different region? What is the total sales of different gun all the time?\n",
    "\n",
    "\n"
   ]
  },
  {
   "cell_type": "code",
   "execution_count": 30,
   "metadata": {},
   "outputs": [],
   "source": [
    "# import statements\n",
    "import pandas as pd\n",
    "import matplotlib.pyplot as plt\n",
    "%matplotlib inline \n",
    "import numpy as np\n",
    "df1=pd.read_csv('u.s.-census-data.csv')\n",
    "df2=pd.read_csv('gun-data.csv')"
   ]
  },
  {
   "cell_type": "markdown",
   "metadata": {},
   "source": [
    "<a id='wrangling'></a>\n",
    "## Data Wrangling\n",
    "\n",
    "### General Properties"
   ]
  },
  {
   "cell_type": "code",
   "execution_count": 3,
   "metadata": {
    "scrolled": true
   },
   "outputs": [
    {
     "data": {
      "text/html": [
       "<div>\n",
       "<style scoped>\n",
       "    .dataframe tbody tr th:only-of-type {\n",
       "        vertical-align: middle;\n",
       "    }\n",
       "\n",
       "    .dataframe tbody tr th {\n",
       "        vertical-align: top;\n",
       "    }\n",
       "\n",
       "    .dataframe thead th {\n",
       "        text-align: right;\n",
       "    }\n",
       "</style>\n",
       "<table border=\"1\" class=\"dataframe\">\n",
       "  <thead>\n",
       "    <tr style=\"text-align: right;\">\n",
       "      <th></th>\n",
       "      <th>Fact</th>\n",
       "      <th>Fact Note</th>\n",
       "      <th>Alabama</th>\n",
       "      <th>Alaska</th>\n",
       "      <th>Arizona</th>\n",
       "      <th>Arkansas</th>\n",
       "      <th>California</th>\n",
       "      <th>Colorado</th>\n",
       "      <th>Connecticut</th>\n",
       "      <th>Delaware</th>\n",
       "      <th>...</th>\n",
       "      <th>South Dakota</th>\n",
       "      <th>Tennessee</th>\n",
       "      <th>Texas</th>\n",
       "      <th>Utah</th>\n",
       "      <th>Vermont</th>\n",
       "      <th>Virginia</th>\n",
       "      <th>Washington</th>\n",
       "      <th>West Virginia</th>\n",
       "      <th>Wisconsin</th>\n",
       "      <th>Wyoming</th>\n",
       "    </tr>\n",
       "  </thead>\n",
       "  <tbody>\n",
       "    <tr>\n",
       "      <th>0</th>\n",
       "      <td>Population estimates, July 1, 2016,  (V2016)</td>\n",
       "      <td>NaN</td>\n",
       "      <td>4,863,300</td>\n",
       "      <td>741,894</td>\n",
       "      <td>6,931,071</td>\n",
       "      <td>2,988,248</td>\n",
       "      <td>39,250,017</td>\n",
       "      <td>5,540,545</td>\n",
       "      <td>3,576,452</td>\n",
       "      <td>952,065</td>\n",
       "      <td>...</td>\n",
       "      <td>865454</td>\n",
       "      <td>6651194</td>\n",
       "      <td>27,862,596</td>\n",
       "      <td>3,051,217</td>\n",
       "      <td>624,594</td>\n",
       "      <td>8,411,808</td>\n",
       "      <td>7,288,000</td>\n",
       "      <td>1,831,102</td>\n",
       "      <td>5,778,708</td>\n",
       "      <td>585,501</td>\n",
       "    </tr>\n",
       "    <tr>\n",
       "      <th>1</th>\n",
       "      <td>Population estimates base, April 1, 2010,  (V2...</td>\n",
       "      <td>NaN</td>\n",
       "      <td>4,780,131</td>\n",
       "      <td>710,249</td>\n",
       "      <td>6,392,301</td>\n",
       "      <td>2,916,025</td>\n",
       "      <td>37,254,522</td>\n",
       "      <td>5,029,324</td>\n",
       "      <td>3,574,114</td>\n",
       "      <td>897,936</td>\n",
       "      <td>...</td>\n",
       "      <td>814195</td>\n",
       "      <td>6346298</td>\n",
       "      <td>25,146,100</td>\n",
       "      <td>2,763,888</td>\n",
       "      <td>625,741</td>\n",
       "      <td>8,001,041</td>\n",
       "      <td>6,724,545</td>\n",
       "      <td>1,853,011</td>\n",
       "      <td>5,687,289</td>\n",
       "      <td>563,767</td>\n",
       "    </tr>\n",
       "    <tr>\n",
       "      <th>2</th>\n",
       "      <td>Population, percent change - April 1, 2010 (es...</td>\n",
       "      <td>NaN</td>\n",
       "      <td>1.70%</td>\n",
       "      <td>4.50%</td>\n",
       "      <td>8.40%</td>\n",
       "      <td>2.50%</td>\n",
       "      <td>5.40%</td>\n",
       "      <td>10.20%</td>\n",
       "      <td>0.10%</td>\n",
       "      <td>6.00%</td>\n",
       "      <td>...</td>\n",
       "      <td>0.063</td>\n",
       "      <td>0.048</td>\n",
       "      <td>10.80%</td>\n",
       "      <td>10.40%</td>\n",
       "      <td>-0.20%</td>\n",
       "      <td>5.10%</td>\n",
       "      <td>8.40%</td>\n",
       "      <td>-1.20%</td>\n",
       "      <td>1.60%</td>\n",
       "      <td>3.90%</td>\n",
       "    </tr>\n",
       "    <tr>\n",
       "      <th>3</th>\n",
       "      <td>Population, Census, April 1, 2010</td>\n",
       "      <td>NaN</td>\n",
       "      <td>4,779,736</td>\n",
       "      <td>710,231</td>\n",
       "      <td>6,392,017</td>\n",
       "      <td>2,915,918</td>\n",
       "      <td>37,253,956</td>\n",
       "      <td>5,029,196</td>\n",
       "      <td>3,574,097</td>\n",
       "      <td>897,934</td>\n",
       "      <td>...</td>\n",
       "      <td>814180</td>\n",
       "      <td>6346105</td>\n",
       "      <td>25,145,561</td>\n",
       "      <td>2,763,885</td>\n",
       "      <td>625,741</td>\n",
       "      <td>8,001,024</td>\n",
       "      <td>6,724,540</td>\n",
       "      <td>1,852,994</td>\n",
       "      <td>5,686,986</td>\n",
       "      <td>563,626</td>\n",
       "    </tr>\n",
       "    <tr>\n",
       "      <th>4</th>\n",
       "      <td>Persons under 5 years, percent, July 1, 2016, ...</td>\n",
       "      <td>NaN</td>\n",
       "      <td>6.00%</td>\n",
       "      <td>7.30%</td>\n",
       "      <td>6.30%</td>\n",
       "      <td>6.40%</td>\n",
       "      <td>6.30%</td>\n",
       "      <td>6.10%</td>\n",
       "      <td>5.20%</td>\n",
       "      <td>5.80%</td>\n",
       "      <td>...</td>\n",
       "      <td>0.071</td>\n",
       "      <td>0.061</td>\n",
       "      <td>7.20%</td>\n",
       "      <td>8.30%</td>\n",
       "      <td>4.90%</td>\n",
       "      <td>6.10%</td>\n",
       "      <td>6.20%</td>\n",
       "      <td>5.50%</td>\n",
       "      <td>5.80%</td>\n",
       "      <td>6.50%</td>\n",
       "    </tr>\n",
       "  </tbody>\n",
       "</table>\n",
       "<p>5 rows × 52 columns</p>\n",
       "</div>"
      ],
      "text/plain": [
       "                                                Fact Fact Note    Alabama  \\\n",
       "0       Population estimates, July 1, 2016,  (V2016)       NaN  4,863,300   \n",
       "1  Population estimates base, April 1, 2010,  (V2...       NaN  4,780,131   \n",
       "2  Population, percent change - April 1, 2010 (es...       NaN      1.70%   \n",
       "3                  Population, Census, April 1, 2010       NaN  4,779,736   \n",
       "4  Persons under 5 years, percent, July 1, 2016, ...       NaN      6.00%   \n",
       "\n",
       "    Alaska    Arizona   Arkansas  California   Colorado Connecticut Delaware  \\\n",
       "0  741,894  6,931,071  2,988,248  39,250,017  5,540,545   3,576,452  952,065   \n",
       "1  710,249  6,392,301  2,916,025  37,254,522  5,029,324   3,574,114  897,936   \n",
       "2    4.50%      8.40%      2.50%       5.40%     10.20%       0.10%    6.00%   \n",
       "3  710,231  6,392,017  2,915,918  37,253,956  5,029,196   3,574,097  897,934   \n",
       "4    7.30%      6.30%      6.40%       6.30%      6.10%       5.20%    5.80%   \n",
       "\n",
       "    ...    South Dakota Tennessee       Texas       Utah  Vermont   Virginia  \\\n",
       "0   ...          865454   6651194  27,862,596  3,051,217  624,594  8,411,808   \n",
       "1   ...          814195   6346298  25,146,100  2,763,888  625,741  8,001,041   \n",
       "2   ...           0.063     0.048      10.80%     10.40%   -0.20%      5.10%   \n",
       "3   ...          814180   6346105  25,145,561  2,763,885  625,741  8,001,024   \n",
       "4   ...           0.071     0.061       7.20%      8.30%    4.90%      6.10%   \n",
       "\n",
       "  Washington West Virginia  Wisconsin  Wyoming  \n",
       "0  7,288,000     1,831,102  5,778,708  585,501  \n",
       "1  6,724,545     1,853,011  5,687,289  563,767  \n",
       "2      8.40%        -1.20%      1.60%    3.90%  \n",
       "3  6,724,540     1,852,994  5,686,986  563,626  \n",
       "4      6.20%         5.50%      5.80%    6.50%  \n",
       "\n",
       "[5 rows x 52 columns]"
      ]
     },
     "execution_count": 3,
     "metadata": {},
     "output_type": "execute_result"
    }
   ],
   "source": [
    "# Load your data and print out a few lines. Perform operations to inspect data\n",
    "df1.head()\n",
    "#   types and look for instances of missing or possibly errant data."
   ]
  },
  {
   "cell_type": "code",
   "execution_count": 192,
   "metadata": {},
   "outputs": [
    {
     "data": {
      "text/html": [
       "<div>\n",
       "<style scoped>\n",
       "    .dataframe tbody tr th:only-of-type {\n",
       "        vertical-align: middle;\n",
       "    }\n",
       "\n",
       "    .dataframe tbody tr th {\n",
       "        vertical-align: top;\n",
       "    }\n",
       "\n",
       "    .dataframe thead th {\n",
       "        text-align: right;\n",
       "    }\n",
       "</style>\n",
       "<table border=\"1\" class=\"dataframe\">\n",
       "  <thead>\n",
       "    <tr style=\"text-align: right;\">\n",
       "      <th></th>\n",
       "      <th>month</th>\n",
       "      <th>state</th>\n",
       "      <th>permit</th>\n",
       "      <th>permit_recheck</th>\n",
       "      <th>handgun</th>\n",
       "      <th>long_gun</th>\n",
       "      <th>other</th>\n",
       "      <th>multiple</th>\n",
       "      <th>admin</th>\n",
       "      <th>prepawn_handgun</th>\n",
       "      <th>...</th>\n",
       "      <th>returned_other</th>\n",
       "      <th>rentals_handgun</th>\n",
       "      <th>rentals_long_gun</th>\n",
       "      <th>private_sale_handgun</th>\n",
       "      <th>private_sale_long_gun</th>\n",
       "      <th>private_sale_other</th>\n",
       "      <th>return_to_seller_handgun</th>\n",
       "      <th>return_to_seller_long_gun</th>\n",
       "      <th>return_to_seller_other</th>\n",
       "      <th>totals</th>\n",
       "    </tr>\n",
       "  </thead>\n",
       "  <tbody>\n",
       "    <tr>\n",
       "      <th>0</th>\n",
       "      <td>2017-09</td>\n",
       "      <td>Alabama</td>\n",
       "      <td>16717.0</td>\n",
       "      <td>0.0</td>\n",
       "      <td>5734.0</td>\n",
       "      <td>6320.0</td>\n",
       "      <td>221.0</td>\n",
       "      <td>317</td>\n",
       "      <td>0.0</td>\n",
       "      <td>15.0</td>\n",
       "      <td>...</td>\n",
       "      <td>0.0</td>\n",
       "      <td>0.0</td>\n",
       "      <td>0.0</td>\n",
       "      <td>9.0</td>\n",
       "      <td>16.0</td>\n",
       "      <td>3.0</td>\n",
       "      <td>0.0</td>\n",
       "      <td>0.0</td>\n",
       "      <td>3.0</td>\n",
       "      <td>32019</td>\n",
       "    </tr>\n",
       "    <tr>\n",
       "      <th>1</th>\n",
       "      <td>2017-09</td>\n",
       "      <td>Alaska</td>\n",
       "      <td>209.0</td>\n",
       "      <td>2.0</td>\n",
       "      <td>2320.0</td>\n",
       "      <td>2930.0</td>\n",
       "      <td>219.0</td>\n",
       "      <td>160</td>\n",
       "      <td>0.0</td>\n",
       "      <td>5.0</td>\n",
       "      <td>...</td>\n",
       "      <td>0.0</td>\n",
       "      <td>0.0</td>\n",
       "      <td>0.0</td>\n",
       "      <td>17.0</td>\n",
       "      <td>24.0</td>\n",
       "      <td>1.0</td>\n",
       "      <td>0.0</td>\n",
       "      <td>0.0</td>\n",
       "      <td>0.0</td>\n",
       "      <td>6303</td>\n",
       "    </tr>\n",
       "    <tr>\n",
       "      <th>2</th>\n",
       "      <td>2017-09</td>\n",
       "      <td>Arizona</td>\n",
       "      <td>5069.0</td>\n",
       "      <td>382.0</td>\n",
       "      <td>11063.0</td>\n",
       "      <td>7946.0</td>\n",
       "      <td>920.0</td>\n",
       "      <td>631</td>\n",
       "      <td>0.0</td>\n",
       "      <td>13.0</td>\n",
       "      <td>...</td>\n",
       "      <td>0.0</td>\n",
       "      <td>0.0</td>\n",
       "      <td>0.0</td>\n",
       "      <td>38.0</td>\n",
       "      <td>12.0</td>\n",
       "      <td>2.0</td>\n",
       "      <td>0.0</td>\n",
       "      <td>0.0</td>\n",
       "      <td>0.0</td>\n",
       "      <td>28394</td>\n",
       "    </tr>\n",
       "    <tr>\n",
       "      <th>3</th>\n",
       "      <td>2017-09</td>\n",
       "      <td>Arkansas</td>\n",
       "      <td>2935.0</td>\n",
       "      <td>632.0</td>\n",
       "      <td>4347.0</td>\n",
       "      <td>6063.0</td>\n",
       "      <td>165.0</td>\n",
       "      <td>366</td>\n",
       "      <td>51.0</td>\n",
       "      <td>12.0</td>\n",
       "      <td>...</td>\n",
       "      <td>0.0</td>\n",
       "      <td>0.0</td>\n",
       "      <td>0.0</td>\n",
       "      <td>13.0</td>\n",
       "      <td>23.0</td>\n",
       "      <td>0.0</td>\n",
       "      <td>0.0</td>\n",
       "      <td>2.0</td>\n",
       "      <td>1.0</td>\n",
       "      <td>17747</td>\n",
       "    </tr>\n",
       "    <tr>\n",
       "      <th>4</th>\n",
       "      <td>2017-09</td>\n",
       "      <td>California</td>\n",
       "      <td>57839.0</td>\n",
       "      <td>0.0</td>\n",
       "      <td>37165.0</td>\n",
       "      <td>24581.0</td>\n",
       "      <td>2984.0</td>\n",
       "      <td>0</td>\n",
       "      <td>0.0</td>\n",
       "      <td>0.0</td>\n",
       "      <td>...</td>\n",
       "      <td>0.0</td>\n",
       "      <td>0.0</td>\n",
       "      <td>0.0</td>\n",
       "      <td>0.0</td>\n",
       "      <td>0.0</td>\n",
       "      <td>0.0</td>\n",
       "      <td>0.0</td>\n",
       "      <td>0.0</td>\n",
       "      <td>0.0</td>\n",
       "      <td>123506</td>\n",
       "    </tr>\n",
       "  </tbody>\n",
       "</table>\n",
       "<p>5 rows × 27 columns</p>\n",
       "</div>"
      ],
      "text/plain": [
       "     month       state   permit  permit_recheck  handgun  long_gun   other  \\\n",
       "0  2017-09     Alabama  16717.0             0.0   5734.0    6320.0   221.0   \n",
       "1  2017-09      Alaska    209.0             2.0   2320.0    2930.0   219.0   \n",
       "2  2017-09     Arizona   5069.0           382.0  11063.0    7946.0   920.0   \n",
       "3  2017-09    Arkansas   2935.0           632.0   4347.0    6063.0   165.0   \n",
       "4  2017-09  California  57839.0             0.0  37165.0   24581.0  2984.0   \n",
       "\n",
       "   multiple  admin  prepawn_handgun   ...    returned_other  rentals_handgun  \\\n",
       "0       317    0.0             15.0   ...               0.0              0.0   \n",
       "1       160    0.0              5.0   ...               0.0              0.0   \n",
       "2       631    0.0             13.0   ...               0.0              0.0   \n",
       "3       366   51.0             12.0   ...               0.0              0.0   \n",
       "4         0    0.0              0.0   ...               0.0              0.0   \n",
       "\n",
       "   rentals_long_gun  private_sale_handgun  private_sale_long_gun  \\\n",
       "0               0.0                   9.0                   16.0   \n",
       "1               0.0                  17.0                   24.0   \n",
       "2               0.0                  38.0                   12.0   \n",
       "3               0.0                  13.0                   23.0   \n",
       "4               0.0                   0.0                    0.0   \n",
       "\n",
       "   private_sale_other  return_to_seller_handgun  return_to_seller_long_gun  \\\n",
       "0                 3.0                       0.0                        0.0   \n",
       "1                 1.0                       0.0                        0.0   \n",
       "2                 2.0                       0.0                        0.0   \n",
       "3                 0.0                       0.0                        2.0   \n",
       "4                 0.0                       0.0                        0.0   \n",
       "\n",
       "   return_to_seller_other  totals  \n",
       "0                     3.0   32019  \n",
       "1                     0.0    6303  \n",
       "2                     0.0   28394  \n",
       "3                     1.0   17747  \n",
       "4                     0.0  123506  \n",
       "\n",
       "[5 rows x 27 columns]"
      ]
     },
     "execution_count": 192,
     "metadata": {},
     "output_type": "execute_result"
    }
   ],
   "source": [
    "df2.head()"
   ]
  },
  {
   "cell_type": "code",
   "execution_count": 55,
   "metadata": {},
   "outputs": [
    {
     "data": {
      "text/plain": [
       "month                            0\n",
       "state                            0\n",
       "permit                          24\n",
       "permit_recheck               11385\n",
       "handgun                         20\n",
       "long_gun                        19\n",
       "other                         6985\n",
       "multiple                         0\n",
       "admin                           23\n",
       "prepawn_handgun               1943\n",
       "prepawn_long_gun              1945\n",
       "prepawn_other                 7370\n",
       "redemption_handgun            1940\n",
       "redemption_long_gun           1941\n",
       "redemption_other              7370\n",
       "returned_handgun             10285\n",
       "returned_long_gun            10340\n",
       "returned_other               10670\n",
       "rentals_handgun              11495\n",
       "rentals_long_gun             11660\n",
       "private_sale_handgun          9735\n",
       "private_sale_long_gun         9735\n",
       "private_sale_other            9735\n",
       "return_to_seller_handgun     10010\n",
       "return_to_seller_long_gun     9735\n",
       "return_to_seller_other       10230\n",
       "totals                           0\n",
       "dtype: int64"
      ]
     },
     "execution_count": 55,
     "metadata": {},
     "output_type": "execute_result"
    }
   ],
   "source": [
    "#check for null value \n",
    "df2.info()\n",
    "df2.isnull().sum()\n"
   ]
  },
  {
   "cell_type": "code",
   "execution_count": 46,
   "metadata": {},
   "outputs": [
    {
     "data": {
      "text/plain": [
       "55"
      ]
     },
     "execution_count": 46,
     "metadata": {},
     "output_type": "execute_result"
    }
   ],
   "source": [
    "#no missiing values for df2\n",
    "#check for state number we are going to analyst\n",
    "df2.state.nunique()"
   ]
  },
  {
   "cell_type": "code",
   "execution_count": 45,
   "metadata": {},
   "outputs": [
    {
     "data": {
      "text/plain": [
       "50"
      ]
     },
     "execution_count": 45,
     "metadata": {},
     "output_type": "execute_result"
    }
   ],
   "source": [
    "df1.columns[2:].nunique()"
   ]
  },
  {
   "cell_type": "code",
   "execution_count": null,
   "metadata": {},
   "outputs": [],
   "source": []
  },
  {
   "cell_type": "code",
   "execution_count": null,
   "metadata": {},
   "outputs": [],
   "source": []
  },
  {
   "cell_type": "markdown",
   "metadata": {},
   "source": [
    "> **Tip**: You should _not_ perform too many operations in each cell. Create cells freely to explore your data. One option that you can take with this project is to do a lot of explorations in an initial notebook. These don't have to be organized, but make sure you use enough comments to understand the purpose of each code cell. Then, after you're done with your analysis, create a duplicate notebook where you will trim the excess and organize your steps so that you have a flowing, cohesive report.\n",
    "\n",
    "> **Tip**: Make sure that you keep your reader informed on the steps that you are taking in your investigation. Follow every code cell, or every set of related code cells, with a markdown cell to describe to the reader what was found in the preceding cell(s). Try to make it so that the reader can then understand what they will be seeing in the following cell(s).\n",
    "\n",
    "### Data Cleaning\n",
    "\n",
    "#### We are going to keep the first row data from U.S census data since we only need the population estimate in year 2016\n",
    "#### For df2, the columes we are keeping are month, state, handgun,long_gun,multiple, and rows with missing value will be deleted as well\n",
    "#### we will merge the two data into one singe data for easy analysis"
   ]
  },
  {
   "cell_type": "markdown",
   "metadata": {},
   "source": [
    "## Clean df1 : \n",
    "   ### Step 1. Only keep the population estimation for 2016"
   ]
  },
  {
   "cell_type": "code",
   "execution_count": 2,
   "metadata": {},
   "outputs": [
    {
     "data": {
      "text/html": [
       "<div>\n",
       "<style scoped>\n",
       "    .dataframe tbody tr th:only-of-type {\n",
       "        vertical-align: middle;\n",
       "    }\n",
       "\n",
       "    .dataframe tbody tr th {\n",
       "        vertical-align: top;\n",
       "    }\n",
       "\n",
       "    .dataframe thead th {\n",
       "        text-align: right;\n",
       "    }\n",
       "</style>\n",
       "<table border=\"1\" class=\"dataframe\">\n",
       "  <thead>\n",
       "    <tr style=\"text-align: right;\">\n",
       "      <th></th>\n",
       "      <th>Fact</th>\n",
       "      <th>Alabama</th>\n",
       "      <th>Alaska</th>\n",
       "      <th>Arizona</th>\n",
       "      <th>Arkansas</th>\n",
       "      <th>California</th>\n",
       "      <th>Colorado</th>\n",
       "      <th>Connecticut</th>\n",
       "      <th>Delaware</th>\n",
       "      <th>Florida</th>\n",
       "      <th>...</th>\n",
       "      <th>South Dakota</th>\n",
       "      <th>Tennessee</th>\n",
       "      <th>Texas</th>\n",
       "      <th>Utah</th>\n",
       "      <th>Vermont</th>\n",
       "      <th>Virginia</th>\n",
       "      <th>Washington</th>\n",
       "      <th>West Virginia</th>\n",
       "      <th>Wisconsin</th>\n",
       "      <th>Wyoming</th>\n",
       "    </tr>\n",
       "  </thead>\n",
       "  <tbody>\n",
       "    <tr>\n",
       "      <th>0</th>\n",
       "      <td>Population estimates, July 1, 2016,  (V2016)</td>\n",
       "      <td>4,863,300</td>\n",
       "      <td>741,894</td>\n",
       "      <td>6,931,071</td>\n",
       "      <td>2,988,248</td>\n",
       "      <td>39,250,017</td>\n",
       "      <td>5,540,545</td>\n",
       "      <td>3,576,452</td>\n",
       "      <td>952,065</td>\n",
       "      <td>20,612,439</td>\n",
       "      <td>...</td>\n",
       "      <td>865454</td>\n",
       "      <td>6651194</td>\n",
       "      <td>27,862,596</td>\n",
       "      <td>3,051,217</td>\n",
       "      <td>624,594</td>\n",
       "      <td>8,411,808</td>\n",
       "      <td>7,288,000</td>\n",
       "      <td>1,831,102</td>\n",
       "      <td>5,778,708</td>\n",
       "      <td>585,501</td>\n",
       "    </tr>\n",
       "  </tbody>\n",
       "</table>\n",
       "<p>1 rows × 51 columns</p>\n",
       "</div>"
      ],
      "text/plain": [
       "                                           Fact    Alabama   Alaska  \\\n",
       "0  Population estimates, July 1, 2016,  (V2016)  4,863,300  741,894   \n",
       "\n",
       "     Arizona   Arkansas  California   Colorado Connecticut Delaware  \\\n",
       "0  6,931,071  2,988,248  39,250,017  5,540,545   3,576,452  952,065   \n",
       "\n",
       "      Florida   ...    South Dakota Tennessee       Texas       Utah  Vermont  \\\n",
       "0  20,612,439   ...          865454   6651194  27,862,596  3,051,217  624,594   \n",
       "\n",
       "    Virginia Washington West Virginia  Wisconsin  Wyoming  \n",
       "0  8,411,808  7,288,000     1,831,102  5,778,708  585,501  \n",
       "\n",
       "[1 rows x 51 columns]"
      ]
     },
     "execution_count": 2,
     "metadata": {},
     "output_type": "execute_result"
    }
   ],
   "source": [
    "# delete other row in df1 than the first row\n",
    "df1= df1[0:1]\n",
    "#delete column Fact Note\n",
    "df1.drop(['Fact Note'], axis = 1,inplace =True)\n",
    "df1"
   ]
  },
  {
   "cell_type": "markdown",
   "metadata": {},
   "source": [
    "### We leave it here for now and  will trim df1 in advance after we finish df2"
   ]
  },
  {
   "cell_type": "markdown",
   "metadata": {},
   "source": [
    "## Clean df2:\n",
    "   ### Step 1. Delete columns that will not be used in the investigation"
   ]
  },
  {
   "cell_type": "code",
   "execution_count": 3,
   "metadata": {},
   "outputs": [],
   "source": [
    "#delete other unwanted columns, and keep month, state, handgun,long_gun,multiple\n",
    "df2= df2[['month','state','handgun','long_gun','multiple']]"
   ]
  },
  {
   "cell_type": "markdown",
   "metadata": {},
   "source": [
    "### Step 2. Replacing null value with 0, since we found there is null values in the data"
   ]
  },
  {
   "cell_type": "code",
   "execution_count": 4,
   "metadata": {},
   "outputs": [
    {
     "name": "stdout",
     "output_type": "stream",
     "text": [
      "<class 'pandas.core.frame.DataFrame'>\n",
      "RangeIndex: 12485 entries, 0 to 12484\n",
      "Data columns (total 5 columns):\n",
      "month       12485 non-null object\n",
      "state       12485 non-null object\n",
      "handgun     12485 non-null float64\n",
      "long_gun    12485 non-null float64\n",
      "multiple    12485 non-null int64\n",
      "dtypes: float64(2), int64(1), object(2)\n",
      "memory usage: 487.8+ KB\n"
     ]
    }
   ],
   "source": [
    "#delete missing value, replace it with 0\n",
    "df2.fillna(0,inplace = True)\n",
    "df2.info()"
   ]
  },
  {
   "cell_type": "markdown",
   "metadata": {},
   "source": [
    "#### No null now"
   ]
  },
  {
   "cell_type": "markdown",
   "metadata": {},
   "source": [
    "### Step 3. chang month from string to time"
   ]
  },
  {
   "cell_type": "code",
   "execution_count": 5,
   "metadata": {},
   "outputs": [
    {
     "name": "stdout",
     "output_type": "stream",
     "text": [
      "<class 'pandas.core.frame.DataFrame'>\n",
      "RangeIndex: 12485 entries, 0 to 12484\n",
      "Data columns (total 5 columns):\n",
      "month       12485 non-null datetime64[ns]\n",
      "state       12485 non-null object\n",
      "handgun     12485 non-null float64\n",
      "long_gun    12485 non-null float64\n",
      "multiple    12485 non-null int64\n",
      "dtypes: datetime64[ns](1), float64(2), int64(1), object(1)\n",
      "memory usage: 487.8+ KB\n"
     ]
    }
   ],
   "source": [
    "#chang month from string to time\n",
    "df2['month']= df2['month'].astype('datetime64')\n",
    "df2.info()"
   ]
  },
  {
   "cell_type": "markdown",
   "metadata": {},
   "source": [
    "#### Done\n",
    "\n",
    "### Data Preparatio :Preparing total gun background check data every year for Question 1\n",
    "\n",
    "#### Step 1. group data by date. and reset index to column"
   ]
  },
  {
   "cell_type": "code",
   "execution_count": 6,
   "metadata": {},
   "outputs": [
    {
     "data": {
      "text/html": [
       "<div>\n",
       "<style scoped>\n",
       "    .dataframe tbody tr th:only-of-type {\n",
       "        vertical-align: middle;\n",
       "    }\n",
       "\n",
       "    .dataframe tbody tr th {\n",
       "        vertical-align: top;\n",
       "    }\n",
       "\n",
       "    .dataframe thead th {\n",
       "        text-align: right;\n",
       "    }\n",
       "</style>\n",
       "<table border=\"1\" class=\"dataframe\">\n",
       "  <thead>\n",
       "    <tr style=\"text-align: right;\">\n",
       "      <th></th>\n",
       "      <th>month</th>\n",
       "      <th>handgun</th>\n",
       "      <th>long_gun</th>\n",
       "      <th>multiple</th>\n",
       "    </tr>\n",
       "  </thead>\n",
       "  <tbody>\n",
       "    <tr>\n",
       "      <th>0</th>\n",
       "      <td>1998-11-01</td>\n",
       "      <td>6859.0</td>\n",
       "      <td>11909.0</td>\n",
       "      <td>275</td>\n",
       "    </tr>\n",
       "    <tr>\n",
       "      <th>1</th>\n",
       "      <td>1998-12-01</td>\n",
       "      <td>213140.0</td>\n",
       "      <td>570882.0</td>\n",
       "      <td>8445</td>\n",
       "    </tr>\n",
       "    <tr>\n",
       "      <th>2</th>\n",
       "      <td>1999-01-01</td>\n",
       "      <td>184496.0</td>\n",
       "      <td>309915.0</td>\n",
       "      <td>7498</td>\n",
       "    </tr>\n",
       "    <tr>\n",
       "      <th>3</th>\n",
       "      <td>1999-02-01</td>\n",
       "      <td>232448.0</td>\n",
       "      <td>352411.0</td>\n",
       "      <td>9226</td>\n",
       "    </tr>\n",
       "    <tr>\n",
       "      <th>4</th>\n",
       "      <td>1999-03-01</td>\n",
       "      <td>241036.0</td>\n",
       "      <td>376775.0</td>\n",
       "      <td>9537</td>\n",
       "    </tr>\n",
       "  </tbody>\n",
       "</table>\n",
       "</div>"
      ],
      "text/plain": [
       "       month   handgun  long_gun  multiple\n",
       "0 1998-11-01    6859.0   11909.0       275\n",
       "1 1998-12-01  213140.0  570882.0      8445\n",
       "2 1999-01-01  184496.0  309915.0      7498\n",
       "3 1999-02-01  232448.0  352411.0      9226\n",
       "4 1999-03-01  241036.0  376775.0      9537"
      ]
     },
     "execution_count": 6,
     "metadata": {},
     "output_type": "execute_result"
    }
   ],
   "source": [
    "#group data by date. and reset index to column\n",
    "df2_date= df2.groupby('month').sum()\n",
    "df2_date.reset_index(inplace= True)\n",
    "df2_date.head()"
   ]
  },
  {
   "cell_type": "markdown",
   "metadata": {},
   "source": [
    "#### Step 2.Get data by year with groupby"
   ]
  },
  {
   "cell_type": "code",
   "execution_count": 7,
   "metadata": {},
   "outputs": [
    {
     "data": {
      "text/html": [
       "<div>\n",
       "<style scoped>\n",
       "    .dataframe tbody tr th:only-of-type {\n",
       "        vertical-align: middle;\n",
       "    }\n",
       "\n",
       "    .dataframe tbody tr th {\n",
       "        vertical-align: top;\n",
       "    }\n",
       "\n",
       "    .dataframe thead th {\n",
       "        text-align: right;\n",
       "    }\n",
       "</style>\n",
       "<table border=\"1\" class=\"dataframe\">\n",
       "  <thead>\n",
       "    <tr style=\"text-align: right;\">\n",
       "      <th></th>\n",
       "      <th>month</th>\n",
       "      <th>handgun</th>\n",
       "      <th>long_gun</th>\n",
       "      <th>multiple</th>\n",
       "    </tr>\n",
       "  </thead>\n",
       "  <tbody>\n",
       "    <tr>\n",
       "      <th>0</th>\n",
       "      <td>1998</td>\n",
       "      <td>219999.0</td>\n",
       "      <td>582791.0</td>\n",
       "      <td>8720</td>\n",
       "    </tr>\n",
       "    <tr>\n",
       "      <th>1</th>\n",
       "      <td>1999</td>\n",
       "      <td>2536738.0</td>\n",
       "      <td>5217451.0</td>\n",
       "      <td>103743</td>\n",
       "    </tr>\n",
       "    <tr>\n",
       "      <th>2</th>\n",
       "      <td>2000</td>\n",
       "      <td>2191879.0</td>\n",
       "      <td>4779978.0</td>\n",
       "      <td>95777</td>\n",
       "    </tr>\n",
       "    <tr>\n",
       "      <th>3</th>\n",
       "      <td>2001</td>\n",
       "      <td>2167213.0</td>\n",
       "      <td>4943375.0</td>\n",
       "      <td>97132</td>\n",
       "    </tr>\n",
       "    <tr>\n",
       "      <th>4</th>\n",
       "      <td>2002</td>\n",
       "      <td>1845112.0</td>\n",
       "      <td>4409311.0</td>\n",
       "      <td>93069</td>\n",
       "    </tr>\n",
       "  </tbody>\n",
       "</table>\n",
       "</div>"
      ],
      "text/plain": [
       "   month    handgun   long_gun  multiple\n",
       "0   1998   219999.0   582791.0      8720\n",
       "1   1999  2536738.0  5217451.0    103743\n",
       "2   2000  2191879.0  4779978.0     95777\n",
       "3   2001  2167213.0  4943375.0     97132\n",
       "4   2002  1845112.0  4409311.0     93069"
      ]
     },
     "execution_count": 7,
     "metadata": {},
     "output_type": "execute_result"
    }
   ],
   "source": [
    "#Let's calculate the total gun check by each year\n",
    "df2_year = df2_date.groupby([df2_date['month'].dt.year]).sum()\n",
    "df2_year.reset_index(inplace= True)\n",
    "df2_year.head()"
   ]
  },
  {
   "cell_type": "markdown",
   "metadata": {},
   "source": [
    "#### Step 3.Let's trim the first year and last year since we dont have the full year data"
   ]
  },
  {
   "cell_type": "code",
   "execution_count": 8,
   "metadata": {},
   "outputs": [],
   "source": [
    "#Let's trim the first year and last year since we dont have the full year data\n",
    "df2_year.drop([0,19], inplace = True)"
   ]
  },
  {
   "cell_type": "code",
   "execution_count": 49,
   "metadata": {},
   "outputs": [
    {
     "data": {
      "text/plain": [
       "handgun     68590381.0\n",
       "long_gun    93365873.0\n",
       "multiple     3175404.0\n",
       "dtype: float64"
      ]
     },
     "execution_count": 49,
     "metadata": {},
     "output_type": "execute_result"
    }
   ],
   "source": [
    "df2_year"
   ]
  },
  {
   "cell_type": "markdown",
   "metadata": {},
   "source": [
    "### The data for Question 1 is READY!\n",
    "\n",
    "\n",
    "\n",
    "### Let's Prepare the data for analysis of gun check data per states in 2016 for Question 2.\n",
    "\n",
    "#### Step 1. Extract the data in 2016 and groupby states"
   ]
  },
  {
   "cell_type": "code",
   "execution_count": 9,
   "metadata": {},
   "outputs": [
    {
     "name": "stdout",
     "output_type": "stream",
     "text": [
      "<class 'pandas.core.frame.DataFrame'>\n",
      "RangeIndex: 55 entries, 0 to 54\n",
      "Data columns (total 4 columns):\n",
      "state       55 non-null object\n",
      "handgun     55 non-null float64\n",
      "long_gun    55 non-null float64\n",
      "multiple    55 non-null int64\n",
      "dtypes: float64(2), int64(1), object(1)\n",
      "memory usage: 1.8+ KB\n"
     ]
    }
   ],
   "source": [
    "\n",
    "df2_2016 = df2[df2['month'].dt.year ==2016]\n",
    "df2_state_2016= df2_2016.groupby(['state']).sum()\n",
    "df2_state_2016.reset_index(inplace= True)\n",
    "df2_state_2016.info()"
   ]
  },
  {
   "cell_type": "markdown",
   "metadata": {},
   "source": [
    "#### Done\n",
    "\n",
    "### We noticed that handgun and longgun data are in float64\n",
    "### Step 2.Transmform them into int"
   ]
  },
  {
   "cell_type": "code",
   "execution_count": 10,
   "metadata": {},
   "outputs": [
    {
     "name": "stdout",
     "output_type": "stream",
     "text": [
      "<class 'pandas.core.frame.DataFrame'>\n",
      "RangeIndex: 55 entries, 0 to 54\n",
      "Data columns (total 4 columns):\n",
      "state       55 non-null object\n",
      "handgun     55 non-null int64\n",
      "long_gun    55 non-null int64\n",
      "multiple    55 non-null int64\n",
      "dtypes: int64(3), object(1)\n",
      "memory usage: 1.8+ KB\n"
     ]
    }
   ],
   "source": [
    "df2_state_2016[['handgun','long_gun']] = df2_state_2016[['handgun','long_gun']].astype('int64')\n",
    "df2_state_2016.info()"
   ]
  },
  {
   "cell_type": "markdown",
   "metadata": {},
   "source": [
    "### Let's come back df1, now we need to merge df1 and df2 in order to do the analysis\n",
    "### We know that states in df1 are in columns not rows, which is hard to merge with df2\n",
    "#### Step 3. So let's trim it a little"
   ]
  },
  {
   "cell_type": "code",
   "execution_count": 11,
   "metadata": {},
   "outputs": [
    {
     "data": {
      "text/html": [
       "<div>\n",
       "<style scoped>\n",
       "    .dataframe tbody tr th:only-of-type {\n",
       "        vertical-align: middle;\n",
       "    }\n",
       "\n",
       "    .dataframe tbody tr th {\n",
       "        vertical-align: top;\n",
       "    }\n",
       "\n",
       "    .dataframe thead th {\n",
       "        text-align: right;\n",
       "    }\n",
       "</style>\n",
       "<table border=\"1\" class=\"dataframe\">\n",
       "  <thead>\n",
       "    <tr style=\"text-align: right;\">\n",
       "      <th></th>\n",
       "      <th>Alabama</th>\n",
       "      <th>Alaska</th>\n",
       "      <th>Arizona</th>\n",
       "      <th>Arkansas</th>\n",
       "      <th>California</th>\n",
       "      <th>Colorado</th>\n",
       "      <th>Connecticut</th>\n",
       "      <th>Delaware</th>\n",
       "      <th>Florida</th>\n",
       "      <th>Georgia</th>\n",
       "      <th>...</th>\n",
       "      <th>South Dakota</th>\n",
       "      <th>Tennessee</th>\n",
       "      <th>Texas</th>\n",
       "      <th>Utah</th>\n",
       "      <th>Vermont</th>\n",
       "      <th>Virginia</th>\n",
       "      <th>Washington</th>\n",
       "      <th>West Virginia</th>\n",
       "      <th>Wisconsin</th>\n",
       "      <th>Wyoming</th>\n",
       "    </tr>\n",
       "    <tr>\n",
       "      <th>States</th>\n",
       "      <th></th>\n",
       "      <th></th>\n",
       "      <th></th>\n",
       "      <th></th>\n",
       "      <th></th>\n",
       "      <th></th>\n",
       "      <th></th>\n",
       "      <th></th>\n",
       "      <th></th>\n",
       "      <th></th>\n",
       "      <th></th>\n",
       "      <th></th>\n",
       "      <th></th>\n",
       "      <th></th>\n",
       "      <th></th>\n",
       "      <th></th>\n",
       "      <th></th>\n",
       "      <th></th>\n",
       "      <th></th>\n",
       "      <th></th>\n",
       "      <th></th>\n",
       "    </tr>\n",
       "  </thead>\n",
       "  <tbody>\n",
       "    <tr>\n",
       "      <th>0</th>\n",
       "      <td>4,863,300</td>\n",
       "      <td>741,894</td>\n",
       "      <td>6,931,071</td>\n",
       "      <td>2,988,248</td>\n",
       "      <td>39,250,017</td>\n",
       "      <td>5,540,545</td>\n",
       "      <td>3,576,452</td>\n",
       "      <td>952,065</td>\n",
       "      <td>20,612,439</td>\n",
       "      <td>10,310,371</td>\n",
       "      <td>...</td>\n",
       "      <td>865454</td>\n",
       "      <td>6651194</td>\n",
       "      <td>27,862,596</td>\n",
       "      <td>3,051,217</td>\n",
       "      <td>624,594</td>\n",
       "      <td>8,411,808</td>\n",
       "      <td>7,288,000</td>\n",
       "      <td>1,831,102</td>\n",
       "      <td>5,778,708</td>\n",
       "      <td>585,501</td>\n",
       "    </tr>\n",
       "  </tbody>\n",
       "</table>\n",
       "<p>1 rows × 50 columns</p>\n",
       "</div>"
      ],
      "text/plain": [
       "          Alabama   Alaska    Arizona   Arkansas  California   Colorado  \\\n",
       "States                                                                    \n",
       "0       4,863,300  741,894  6,931,071  2,988,248  39,250,017  5,540,545   \n",
       "\n",
       "       Connecticut Delaware     Florida     Georgia   ...    South Dakota  \\\n",
       "States                                                ...                   \n",
       "0        3,576,452  952,065  20,612,439  10,310,371   ...          865454   \n",
       "\n",
       "       Tennessee       Texas       Utah  Vermont   Virginia Washington  \\\n",
       "States                                                                   \n",
       "0        6651194  27,862,596  3,051,217  624,594  8,411,808  7,288,000   \n",
       "\n",
       "       West Virginia  Wisconsin  Wyoming  \n",
       "States                                    \n",
       "0          1,831,102  5,778,708  585,501  \n",
       "\n",
       "[1 rows x 50 columns]"
      ]
     },
     "execution_count": 11,
     "metadata": {},
     "output_type": "execute_result"
    }
   ],
   "source": [
    "df1['Fact']\n",
    "df1.replace('Population estimates, July 1, 2016,  (V2016)',0,inplace =True)\n",
    "df1.rename(columns={\"Fact\": \"States\"},inplace = True)\n",
    "df1.set_index('States',inplace = True)\n",
    "df1.head()"
   ]
  },
  {
   "cell_type": "markdown",
   "metadata": {},
   "source": [
    "#### It is ready to transform into a row data for the states\n",
    "\n",
    "#### Step 4. Transform df1 into vertical style"
   ]
  },
  {
   "cell_type": "code",
   "execution_count": 12,
   "metadata": {},
   "outputs": [
    {
     "data": {
      "text/html": [
       "<div>\n",
       "<style scoped>\n",
       "    .dataframe tbody tr th:only-of-type {\n",
       "        vertical-align: middle;\n",
       "    }\n",
       "\n",
       "    .dataframe tbody tr th {\n",
       "        vertical-align: top;\n",
       "    }\n",
       "\n",
       "    .dataframe thead th {\n",
       "        text-align: right;\n",
       "    }\n",
       "</style>\n",
       "<table border=\"1\" class=\"dataframe\">\n",
       "  <thead>\n",
       "    <tr style=\"text-align: right;\">\n",
       "      <th></th>\n",
       "      <th>States</th>\n",
       "      <th>Population</th>\n",
       "    </tr>\n",
       "  </thead>\n",
       "  <tbody>\n",
       "    <tr>\n",
       "      <th>0</th>\n",
       "      <td>Alabama</td>\n",
       "      <td>4,863,300</td>\n",
       "    </tr>\n",
       "    <tr>\n",
       "      <th>1</th>\n",
       "      <td>Alaska</td>\n",
       "      <td>741,894</td>\n",
       "    </tr>\n",
       "    <tr>\n",
       "      <th>2</th>\n",
       "      <td>Arizona</td>\n",
       "      <td>6,931,071</td>\n",
       "    </tr>\n",
       "    <tr>\n",
       "      <th>3</th>\n",
       "      <td>Arkansas</td>\n",
       "      <td>2,988,248</td>\n",
       "    </tr>\n",
       "    <tr>\n",
       "      <th>4</th>\n",
       "      <td>California</td>\n",
       "      <td>39,250,017</td>\n",
       "    </tr>\n",
       "    <tr>\n",
       "      <th>5</th>\n",
       "      <td>Colorado</td>\n",
       "      <td>5,540,545</td>\n",
       "    </tr>\n",
       "    <tr>\n",
       "      <th>6</th>\n",
       "      <td>Connecticut</td>\n",
       "      <td>3,576,452</td>\n",
       "    </tr>\n",
       "    <tr>\n",
       "      <th>7</th>\n",
       "      <td>Delaware</td>\n",
       "      <td>952,065</td>\n",
       "    </tr>\n",
       "    <tr>\n",
       "      <th>8</th>\n",
       "      <td>Florida</td>\n",
       "      <td>20,612,439</td>\n",
       "    </tr>\n",
       "    <tr>\n",
       "      <th>9</th>\n",
       "      <td>Georgia</td>\n",
       "      <td>10,310,371</td>\n",
       "    </tr>\n",
       "    <tr>\n",
       "      <th>10</th>\n",
       "      <td>Hawaii</td>\n",
       "      <td>1,428,557</td>\n",
       "    </tr>\n",
       "    <tr>\n",
       "      <th>11</th>\n",
       "      <td>Idaho</td>\n",
       "      <td>1,683,140</td>\n",
       "    </tr>\n",
       "    <tr>\n",
       "      <th>12</th>\n",
       "      <td>Illinois</td>\n",
       "      <td>12,801,539</td>\n",
       "    </tr>\n",
       "    <tr>\n",
       "      <th>13</th>\n",
       "      <td>Indiana</td>\n",
       "      <td>6,633,053</td>\n",
       "    </tr>\n",
       "    <tr>\n",
       "      <th>14</th>\n",
       "      <td>Iowa</td>\n",
       "      <td>3,134,693</td>\n",
       "    </tr>\n",
       "    <tr>\n",
       "      <th>15</th>\n",
       "      <td>Kansas</td>\n",
       "      <td>2,907,289</td>\n",
       "    </tr>\n",
       "    <tr>\n",
       "      <th>16</th>\n",
       "      <td>Kentucky</td>\n",
       "      <td>4,436,974</td>\n",
       "    </tr>\n",
       "    <tr>\n",
       "      <th>17</th>\n",
       "      <td>Louisiana</td>\n",
       "      <td>4,681,666</td>\n",
       "    </tr>\n",
       "    <tr>\n",
       "      <th>18</th>\n",
       "      <td>Maine</td>\n",
       "      <td>1,331,479</td>\n",
       "    </tr>\n",
       "    <tr>\n",
       "      <th>19</th>\n",
       "      <td>Maryland</td>\n",
       "      <td>6,016,447</td>\n",
       "    </tr>\n",
       "    <tr>\n",
       "      <th>20</th>\n",
       "      <td>Massachusetts</td>\n",
       "      <td>6,811,779</td>\n",
       "    </tr>\n",
       "    <tr>\n",
       "      <th>21</th>\n",
       "      <td>Michigan</td>\n",
       "      <td>9,928,300</td>\n",
       "    </tr>\n",
       "    <tr>\n",
       "      <th>22</th>\n",
       "      <td>Minnesota</td>\n",
       "      <td>5,519,952</td>\n",
       "    </tr>\n",
       "    <tr>\n",
       "      <th>23</th>\n",
       "      <td>Mississippi</td>\n",
       "      <td>2,988,726</td>\n",
       "    </tr>\n",
       "    <tr>\n",
       "      <th>24</th>\n",
       "      <td>Missouri</td>\n",
       "      <td>6,093,000</td>\n",
       "    </tr>\n",
       "    <tr>\n",
       "      <th>25</th>\n",
       "      <td>Montana</td>\n",
       "      <td>1,042,520</td>\n",
       "    </tr>\n",
       "    <tr>\n",
       "      <th>26</th>\n",
       "      <td>Nebraska</td>\n",
       "      <td>1,907,116</td>\n",
       "    </tr>\n",
       "    <tr>\n",
       "      <th>27</th>\n",
       "      <td>Nevada</td>\n",
       "      <td>2,940,058</td>\n",
       "    </tr>\n",
       "    <tr>\n",
       "      <th>28</th>\n",
       "      <td>New Hampshire</td>\n",
       "      <td>1,334,795</td>\n",
       "    </tr>\n",
       "    <tr>\n",
       "      <th>29</th>\n",
       "      <td>New Jersey</td>\n",
       "      <td>8,944,469</td>\n",
       "    </tr>\n",
       "    <tr>\n",
       "      <th>30</th>\n",
       "      <td>New Mexico</td>\n",
       "      <td>2081015</td>\n",
       "    </tr>\n",
       "    <tr>\n",
       "      <th>31</th>\n",
       "      <td>New York</td>\n",
       "      <td>19745289</td>\n",
       "    </tr>\n",
       "    <tr>\n",
       "      <th>32</th>\n",
       "      <td>North Carolina</td>\n",
       "      <td>10146788</td>\n",
       "    </tr>\n",
       "    <tr>\n",
       "      <th>33</th>\n",
       "      <td>North Dakota</td>\n",
       "      <td>757952</td>\n",
       "    </tr>\n",
       "    <tr>\n",
       "      <th>34</th>\n",
       "      <td>Ohio</td>\n",
       "      <td>11614373</td>\n",
       "    </tr>\n",
       "    <tr>\n",
       "      <th>35</th>\n",
       "      <td>Oklahoma</td>\n",
       "      <td>3923561</td>\n",
       "    </tr>\n",
       "    <tr>\n",
       "      <th>36</th>\n",
       "      <td>Oregon</td>\n",
       "      <td>4093465</td>\n",
       "    </tr>\n",
       "    <tr>\n",
       "      <th>37</th>\n",
       "      <td>Pennsylvania</td>\n",
       "      <td>12784227</td>\n",
       "    </tr>\n",
       "    <tr>\n",
       "      <th>38</th>\n",
       "      <td>Rhode Island</td>\n",
       "      <td>1056426</td>\n",
       "    </tr>\n",
       "    <tr>\n",
       "      <th>39</th>\n",
       "      <td>South Carolina</td>\n",
       "      <td>4961119</td>\n",
       "    </tr>\n",
       "    <tr>\n",
       "      <th>40</th>\n",
       "      <td>South Dakota</td>\n",
       "      <td>865454</td>\n",
       "    </tr>\n",
       "    <tr>\n",
       "      <th>41</th>\n",
       "      <td>Tennessee</td>\n",
       "      <td>6651194</td>\n",
       "    </tr>\n",
       "    <tr>\n",
       "      <th>42</th>\n",
       "      <td>Texas</td>\n",
       "      <td>27,862,596</td>\n",
       "    </tr>\n",
       "    <tr>\n",
       "      <th>43</th>\n",
       "      <td>Utah</td>\n",
       "      <td>3,051,217</td>\n",
       "    </tr>\n",
       "    <tr>\n",
       "      <th>44</th>\n",
       "      <td>Vermont</td>\n",
       "      <td>624,594</td>\n",
       "    </tr>\n",
       "    <tr>\n",
       "      <th>45</th>\n",
       "      <td>Virginia</td>\n",
       "      <td>8,411,808</td>\n",
       "    </tr>\n",
       "    <tr>\n",
       "      <th>46</th>\n",
       "      <td>Washington</td>\n",
       "      <td>7,288,000</td>\n",
       "    </tr>\n",
       "    <tr>\n",
       "      <th>47</th>\n",
       "      <td>West Virginia</td>\n",
       "      <td>1,831,102</td>\n",
       "    </tr>\n",
       "    <tr>\n",
       "      <th>48</th>\n",
       "      <td>Wisconsin</td>\n",
       "      <td>5,778,708</td>\n",
       "    </tr>\n",
       "    <tr>\n",
       "      <th>49</th>\n",
       "      <td>Wyoming</td>\n",
       "      <td>585,501</td>\n",
       "    </tr>\n",
       "  </tbody>\n",
       "</table>\n",
       "</div>"
      ],
      "text/plain": [
       "            States  Population\n",
       "0          Alabama   4,863,300\n",
       "1           Alaska     741,894\n",
       "2          Arizona   6,931,071\n",
       "3         Arkansas   2,988,248\n",
       "4       California  39,250,017\n",
       "5         Colorado   5,540,545\n",
       "6      Connecticut   3,576,452\n",
       "7         Delaware     952,065\n",
       "8          Florida  20,612,439\n",
       "9          Georgia  10,310,371\n",
       "10          Hawaii   1,428,557\n",
       "11           Idaho   1,683,140\n",
       "12        Illinois  12,801,539\n",
       "13         Indiana   6,633,053\n",
       "14            Iowa   3,134,693\n",
       "15          Kansas   2,907,289\n",
       "16        Kentucky   4,436,974\n",
       "17       Louisiana   4,681,666\n",
       "18           Maine   1,331,479\n",
       "19        Maryland   6,016,447\n",
       "20   Massachusetts   6,811,779\n",
       "21        Michigan   9,928,300\n",
       "22       Minnesota   5,519,952\n",
       "23     Mississippi   2,988,726\n",
       "24        Missouri   6,093,000\n",
       "25         Montana   1,042,520\n",
       "26        Nebraska   1,907,116\n",
       "27          Nevada   2,940,058\n",
       "28   New Hampshire   1,334,795\n",
       "29      New Jersey   8,944,469\n",
       "30      New Mexico     2081015\n",
       "31        New York    19745289\n",
       "32  North Carolina    10146788\n",
       "33    North Dakota      757952\n",
       "34            Ohio    11614373\n",
       "35        Oklahoma     3923561\n",
       "36          Oregon     4093465\n",
       "37    Pennsylvania    12784227\n",
       "38    Rhode Island     1056426\n",
       "39  South Carolina     4961119\n",
       "40    South Dakota      865454\n",
       "41       Tennessee     6651194\n",
       "42           Texas  27,862,596\n",
       "43            Utah   3,051,217\n",
       "44         Vermont     624,594\n",
       "45        Virginia   8,411,808\n",
       "46      Washington   7,288,000\n",
       "47   West Virginia   1,831,102\n",
       "48       Wisconsin   5,778,708\n",
       "49         Wyoming     585,501"
      ]
     },
     "execution_count": 12,
     "metadata": {},
     "output_type": "execute_result"
    }
   ],
   "source": [
    "#df1_columns = df1.columns\n",
    "df1_num = df1.iloc[0]\n",
    "#df1_c_s=pd.Series(df1_columns)\n",
    "df1_n_s=pd.Series(df1_num)\n",
    "frame = { 'Population': df1_n_s } \n",
    "result = pd.DataFrame(frame) \n",
    "result.reset_index(inplace = True)\n",
    "df1_population = result.rename(columns ={\"index\":\"States\"})\n",
    "df1_population"
   ]
  },
  {
   "cell_type": "markdown",
   "metadata": {},
   "source": [
    "### Done!\n",
    "### Now , we find that the numbers are in object and it cannot be transform to int64 because there are commas among the numbers\n",
    "\n",
    "#### Step 5. Get rid of the commmas and transform the datatype"
   ]
  },
  {
   "cell_type": "code",
   "execution_count": 13,
   "metadata": {},
   "outputs": [
    {
     "name": "stdout",
     "output_type": "stream",
     "text": [
      "<class 'pandas.core.frame.DataFrame'>\n",
      "RangeIndex: 50 entries, 0 to 49\n",
      "Data columns (total 2 columns):\n",
      "States        50 non-null object\n",
      "Population    50 non-null int64\n",
      "dtypes: int64(1), object(1)\n",
      "memory usage: 880.0+ bytes\n"
     ]
    }
   ],
   "source": [
    "#transform object to int64\n",
    "#remove comma in the numbers\n",
    "df1_popu= df1_population.applymap(lambda x: str(x.replace(',','')))\n",
    "#transform type\n",
    "df1_popu['Population']= df1_popu['Population'].astype('int64')\n",
    "df1_popu.info()"
   ]
  },
  {
   "cell_type": "markdown",
   "metadata": {},
   "source": [
    "#### Done!\n",
    "\n",
    "#### Step6. Final Merge and percentage calculation"
   ]
  },
  {
   "cell_type": "code",
   "execution_count": 14,
   "metadata": {},
   "outputs": [],
   "source": [
    "#merge df1_popu and df2_state_2016\n",
    "#df2_state_2016.info()\n",
    "df2_new =pd.merge(df2_state_2016,df1_popu,how='inner',left_on= 'state',right_on='States')\n",
    "#let's calculate the rate by the population\n",
    "percentage_h = df2_new['handgun']/df2_new['Population']*100\n",
    "percentage_l =df2_new['long_gun']/df2_new['Population']*100\n",
    "percentage_m = df2_new['multiple']/df2_new['Population']*100"
   ]
  },
  {
   "cell_type": "markdown",
   "metadata": {},
   "source": [
    "### Preparing data for Q3\n",
    "\n",
    "Percentage of gun categories during 1999 to 2016"
   ]
  },
  {
   "cell_type": "code",
   "execution_count": 32,
   "metadata": {},
   "outputs": [],
   "source": [
    "total_guncheck = df2_year[['handgun','long_gun','multiple']].sum()\n",
    "percentage = total_guncheck/total_guncheck.sum()*100"
   ]
  },
  {
   "cell_type": "markdown",
   "metadata": {},
   "source": [
    "#### Done"
   ]
  },
  {
   "cell_type": "markdown",
   "metadata": {},
   "source": [
    "<a id='eda'></a>\n",
    "## Exploratory Data Analysis\n",
    "\n",
    "> **Tip**: Now that you've trimmed and cleaned your data, you're ready to move on to exploration. Compute statistics and create visualizations with the goal of addressing the research questions that you posed in the Introduction section. It is recommended that you be systematic with your approach. Look at one variable at a time, and then follow it up by looking at relationships between variables.\n",
    "\n",
    "### Are more people likely to buy guns over the years, and what kind of gun are they more like to buy?\n",
    "\n",
    "#### Function to plot line chart\n"
   ]
  },
  {
   "cell_type": "code",
   "execution_count": 46,
   "metadata": {},
   "outputs": [],
   "source": [
    "def plot (x,y):\n",
    "    plt.subplots(figsize = (12,6))\n",
    "    plt.plot(x,y[y.columns[0]],label=y.columns[0])\n",
    "    plt.plot(x,y[y.columns[1]],label=y.columns[1])\n",
    "    plt.plot(x,y[y.columns[2]],label=y.columns[2])\n",
    "    plt.legend()"
   ]
  },
  {
   "cell_type": "markdown",
   "metadata": {},
   "source": [
    "### As we can see from the line chart below, hand gun background check times decreased alightly from 1999 to 2002, and started its continuously inrease. Number of long gun background check fluctuated around 5 million from 1999 to 2011, it experienced a bump all the way up to 7 million during 2011 and 2013 and dropped back to 5.5 million  level eventually in 2016. People who buy two kinds of gun at a time are the minor all the time.\n",
    "### When comparing the long gun and hand gun background checks. The longgun are more than two times as much as short gun before 2008.  As the short gun background check times keep increase over the years, hand gun check times surpass the amount of long gun in 2013.\n",
    "\n",
    "### The changes in the back ground check for each types of gun should imply the buying of them somehow. It may not represent all firarm transactions but we can have a peak to it."
   ]
  },
  {
   "cell_type": "code",
   "execution_count": 47,
   "metadata": {},
   "outputs": [
    {
     "data": {
      "text/plain": [
       "Text(0,0.5,'Gun Backgroud Check Times')"
      ]
     },
     "execution_count": 47,
     "metadata": {},
     "output_type": "execute_result"
    },
    {
     "data": {
      "image/png": "[encoded data removed]",
      "text/plain": [
       "<matplotlib.figure.Figure at 0x7f8932dd0400>"
      ]
     },
     "metadata": {
      "needs_background": "light"
     },
     "output_type": "display_data"
    }
   ],
   "source": [
    "\n",
    "x= df2_year['month']\n",
    "y=df2_year[['handgun','long_gun','multiple']]\n",
    "#Call function\n",
    "plot(x,y)\n",
    "#Name axis and title\n",
    "plt.title('Gun Backgroud Check over the years')\n",
    "plt.xlabel('Year')\n",
    "plt.ylabel('Gun Backgroud Check Times')\n"
   ]
  },
  {
   "cell_type": "markdown",
   "metadata": {},
   "source": []
  },
  {
   "cell_type": "markdown",
   "metadata": {},
   "source": [
    "## Is the behaviour of gun uses different in different states in 2016? by How?"
   ]
  },
  {
   "cell_type": "markdown",
   "metadata": {},
   "source": [
    "### According to the chart below, people have different flavor to guns in different states. In some states,people prefer longgun than hand gun. As we can see from the bar chart, we can see a lot of red area over the purple area because the purple area are the percetage of longgun background check. We found out that in most states people buy handgun more than long gun in 2016. However, there are states longgun are obviously more popular than handgun like Montana, SouthDakota, North Dakota, Iowa, Nebraska and North Carolina. Only a small portion of people would by two kinds of gun at a time in all states.  \n",
    "### Another point to be noticed, people in New Jersey has the lowest percentage of gun back ground check over population, it seems they are less likely to buy gun compared to other states. South Dakota and Montana have the hightest rate of Gun purchase rate."
   ]
  },
  {
   "cell_type": "code",
   "execution_count": 51,
   "metadata": {},
   "outputs": [
    {
     "data": {
      "text/plain": [
       "<matplotlib.legend.Legend at 0x7f8932d1bfd0>"
      ]
     },
     "execution_count": 51,
     "metadata": {},
     "output_type": "execute_result"
    },
    {
     "data": {
      "image/png": "[encoded data removed]",
      "text/plain": [
       "<matplotlib.figure.Figure at 0x7f8932f6f240>"
      ]
     },
     "metadata": {
      "needs_background": "light"
     },
     "output_type": "display_data"
    }
   ],
   "source": [
    "x= df2_new['state']\n",
    "y_h= percentage_h\n",
    "y_l = percentage_l\n",
    "y_m= percentage_m\n",
    "plt.subplots(figsize=(15,6))\n",
    "plt.bar(x,y_h,alpha=0.7, color = 'r', label='handgun')\n",
    "plt.bar(x,y_l,alpha=.5,color = 'b', label='longgun')\n",
    "plt.bar(x,y_m,alpha=1, color = 'g', label='multiple')\n",
    "plt.title('Gun Background Check in different States in 2016')\n",
    "plt.xlabel('states')\n",
    "plt.ylabel ('Percentage of Gun Backgroud Check over local population')\n",
    "plt.xticks(rotation='vertical');\n",
    "plt.legend()"
   ]
  },
  {
   "cell_type": "markdown",
   "metadata": {},
   "source": [
    "## What is the total sales of difference between the three catogory of gun?"
   ]
  },
  {
   "cell_type": "code",
   "execution_count": 69,
   "metadata": {},
   "outputs": [
    {
     "data": {
      "text/plain": [
       "array([0, 1, 2])"
      ]
     },
     "execution_count": 69,
     "metadata": {},
     "output_type": "execute_result"
    },
    {
     "data": {
      "image/png": "[encoded data removed]",
      "text/plain": [
       "<matplotlib.figure.Figure at 0x7f5fd6057f60>"
      ]
     },
     "metadata": {
      "needs_background": "light"
     },
     "output_type": "display_data"
    }
   ],
   "source": [
    "ind = np.arange(len(percentage))  # the x locations for the groups\n",
    "width = 0.3       # the width of the bars\n",
    "ind1= ind+width\n",
    "# plot bars\n",
    "plt.bar(0.5, percentage.iloc[0], width, color='r', alpha=.7, label='handgun')\n",
    "plt.bar(1, percentage.iloc[1], width, color='g', alpha=.7, label='longgun')\n",
    "plt.bar(1.5, percentage.iloc[2], width, color='b', alpha=.7, label='multiple')\n",
    "# title and labels\n",
    "plt.ylabel('Percentage')\n",
    "plt.xlabel('Gun Category')\n",
    "plt.title('Percentage of Gun Background Check in the 8 years by Categories')\n",
    "\n",
    "# legend\n",
    "plt.legend()"
   ]
  },
  {
   "cell_type": "markdown",
   "metadata": {},
   "source": [
    "### As we can see from the histogram above, the total gun background check of the three categories from 1999 to 2016. The total longgun sale takes the majority part of total gun sales in US, which is more than 50%. The handgun takes a relatively some porttion of it, which is around 40%.  People who buy multiple kinds of gun at a time takes the smalest portion which is less than 5 %."
   ]
  },
  {
   "cell_type": "markdown",
   "metadata": {},
   "source": [
    "<a id='conclusions'></a>\n",
    "## Conclusions\n",
    "### Limitations: \n",
    "   #### Since the data we have is about the background check, it cannot represent the whole picture of US gun transaction. We don't have the data of non-registered firearm purchase. Hence, it can only provide a peak of the whole picture of it. Another limitation is we do have some minor(less than 5%) null value in our data, it may affect our analysis a little bit. \n",
    "    \n",
    "### As a conclusion, it seems short gun are becoming more and more popular over the years, the amount of back ground check quadrupled in 2016 compared to 2002. The long gun buyers increases slowly over the 7 years, it still at 5 million level over U.S. \n",
    "### According to the percentage of gun backgound check of each state in 2016, people in most states favor hand gun more than long gun.\n",
    "### Even though the handgun sales went up dramatically after 2002, the total long gun gun grand check still more than hand gun, which suggests more people buy long gun during the 17 years in US. \n",
    "\n",
    "\n",
    "## Submitting your Project \n",
    "\n",
    "> Before you submit your project, you need to create a .html or .pdf version of this notebook in the workspace here. To do that, run the code cell below. If it worked correctly, you should get a return code of 0, and you should see the generated .html file in the workspace directory (click on the orange Jupyter icon in the upper left).\n",
    "\n",
    "> Alternatively, you can download this report as .html via the **File** > **Download as** submenu, and then manually upload it into the workspace directory by clicking on the orange Jupyter icon in the upper left, then using the Upload button.\n",
    "\n",
    "> Once you've done this, you can submit your project by clicking on the \"Submit Project\" button in the lower right here. This will create and submit a zip file with this .ipynb doc and the .html or .pdf version you created. Congratulations!"
   ]
  },
  {
   "cell_type": "code",
   "execution_count": 70,
   "metadata": {},
   "outputs": [
    {
     "data": {
      "text/plain": [
       "0"
      ]
     },
     "execution_count": 70,
     "metadata": {},
     "output_type": "execute_result"
    }
   ],
   "source": [
    "from subprocess import call\n",
    "call(['python', '-m', 'nbconvert', 'Investigate_a_Dataset.ipynb'])"
   ]
  },
  {
   "cell_type": "code",
   "execution_count": null,
   "metadata": {},
   "outputs": [],
   "source": []
  }
 ],
 "metadata": {
  "kernelspec": {
   "display_name": "Python 3",
   "language": "python",
   "name": "python3"
  },
  "language_info": {
   "codemirror_mode": {
    "name": "ipython",
    "version": 3
   },
   "file_extension": ".py",
   "mimetype": "text/x-python",
   "name": "python",
   "nbconvert_exporter": "python",
   "pygments_lexer": "ipython3",
   "version": "3.6.3"
  }
 },
 "nbformat": 4,
 "nbformat_minor": 2
}
